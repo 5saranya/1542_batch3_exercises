{
 "cells": [
  {
   "cell_type": "code",
   "execution_count": 2,
   "metadata": {},
   "outputs": [
    {
     "name": "stdout",
     "output_type": "stream",
     "text": [
      "(14761, 44)\n",
      "(5043, 28)\n"
     ]
    }
   ],
   "source": [
    "# Using the movie metadata set and the imdb data set come up with finidings (slice and dice the data to identify insights) \n",
    "#and also create charts whereever possible.\n",
    "#Reading data sets\n",
    "import pandas as pd\n",
    "import numpy as np\n",
    "from matplotlib import pyplot as plt\n",
    "import seaborn as sns\n",
    "df=pd.read_csv(\"imdb.csv\",escapechar=\"\\\\\")\n",
    "df1=pd.read_csv(\"movie_metadata.csv\",escapechar=\"\\\\\")\n",
    "print(df.shape)\n",
    "print(df1.shape)"
   ]
  },
  {
   "cell_type": "markdown",
   "metadata": {},
   "source": [
    "# Observation:\n",
    "1)The imdb data contains 14762 rows, 44 column variables.\n",
    "2)The movie data contains 5043 observations, 28 column variables.\n"
   ]
  },
  {
   "cell_type": "code",
   "execution_count": 4,
   "metadata": {},
   "outputs": [
    {
     "data": {
      "text/plain": [
       "(14761, 16)"
      ]
     },
     "execution_count": 4,
     "metadata": {},
     "output_type": "execute_result"
    }
   ],
   "source": [
    "df.columns\n",
    "imdb_df=df.drop(['Action', 'Adult', 'Adventure', 'Animation', 'Biography',\n",
    "       'Comedy', 'Crime', 'Documentary', 'Drama', 'Family', 'Fantasy',\n",
    "       'FilmNoir', 'GameShow', 'History', 'Horror', 'Music', 'Musical',\n",
    "       'Mystery', 'News', 'RealityTV', 'Romance', 'SciFi', 'Short', 'Sport',\n",
    "       'TalkShow', 'Thriller', 'War', 'Western'],axis=1)\n",
    "imdb_df.head()\n",
    "imdb_df.shape\n",
    "#dropping duplicate rows\n",
    "imdb_df=imdb_df.drop_duplicates()\n",
    "imdb_df.shape"
   ]
  },
  {
   "cell_type": "markdown",
   "metadata": {},
   "source": [
    "# Observation:\n",
    "1)As genere column is already present in movies metadata  dataframe, removing all the genere list from imdb dataframe    dropping the duplicates from imdb dataset\n",
    "2)There are no duplicates in imdb data"
   ]
  },
  {
   "cell_type": "code",
   "execution_count": 5,
   "metadata": {},
   "outputs": [
    {
     "data": {
      "text/plain": [
       "(4998, 25)"
      ]
     },
     "execution_count": 5,
     "metadata": {},
     "output_type": "execute_result"
    }
   ],
   "source": [
    "#dropping the duplicates from movies dataset\n",
    "import re\n",
    "li=[]\n",
    "for i in df1['movie_imdb_link']:\n",
    "    m = re.search('/([^/-]+)/\\?',i).group(1)\n",
    "    li.append(m)\n",
    "\n",
    "df1[\"tid\"]=li   \n",
    "#dropping duration \n",
    "movies_df=df1.drop(['duration','title_year','movie_imdb_link','imdb_score'], axis = 1)\n",
    "\n",
    "movies_df=movies_df.drop_duplicates()\n",
    "movies_df.shape"
   ]
  },
  {
   "cell_type": "markdown",
   "metadata": {},
   "source": [
    "# Observation:\n",
    "1)Duration,title_year,movie_imdb_link,imdb_score columns are already existed in imdb dataset so removing them from movie dataset before merging the both dataframes.\n",
    "2)There are duplicate observations in the movies dataset.\n"
   ]
  },
  {
   "cell_type": "code",
   "execution_count": 6,
   "metadata": {},
   "outputs": [
    {
     "data": {
      "text/plain": [
       "(3013, 40)"
      ]
     },
     "execution_count": 6,
     "metadata": {},
     "output_type": "execute_result"
    }
   ],
   "source": [
    "result_df = pd.merge(imdb_df,\n",
    "                 movies_df,\n",
    "                 on='tid')\n",
    "result_df.shape"
   ]
  },
  {
   "cell_type": "markdown",
   "metadata": {},
   "source": [
    "# Observation:\n",
    "1)Merging the two data frames on title id.\n",
    "2)After combining the two data sets, observed that data has less observations than original data. Combining data sets, in this case, doesn't make any sense.\n",
    "3)If we perform outer/left/right joins, there are many null fields in the result dataset.\n"
   ]
  },
  {
   "cell_type": "code",
   "execution_count": 7,
   "metadata": {},
   "outputs": [
    {
     "name": "stdout",
     "output_type": "stream",
     "text": [
      "fn                             0\n",
      "tid                            0\n",
      "title                          0\n",
      "wordsInTitle                   5\n",
      "url                            0\n",
      "imdbRating                    16\n",
      "ratingCount                   16\n",
      "duration                      16\n",
      "year                           3\n",
      "type                           0\n",
      "nrOfWins                       0\n",
      "nrOfNominations                0\n",
      "nrOfPhotos                     0\n",
      "nrOfNewsArticles               0\n",
      "nrOfUserReviews                0\n",
      "nrOfGenre                      0\n",
      "color                          3\n",
      "director_name                 53\n",
      "num_critic_for_reviews         0\n",
      "director_facebook_likes       53\n",
      "actor_3_facebook_likes         8\n",
      "actor_2_name                   3\n",
      "actor_1_facebook_likes         0\n",
      "gross                        297\n",
      "genres                         0\n",
      "actor_1_name                   0\n",
      "movie_title                    0\n",
      "num_voted_users                0\n",
      "cast_total_facebook_likes      0\n",
      "actor_3_name                   8\n",
      "facenumber_in_poster           2\n",
      "plot_keywords                  3\n",
      "num_user_for_reviews           0\n",
      "language                       3\n",
      "country                        0\n",
      "content_rating                42\n",
      "budget                       183\n",
      "actor_2_facebook_likes         3\n",
      "aspect_ratio                  20\n",
      "movie_facebook_likes           0\n",
      "dtype: int64\n"
     ]
    }
   ],
   "source": [
    "#finding missing values for each variable\n",
    "print(result_df.isnull().sum())"
   ]
  },
  {
   "cell_type": "code",
   "execution_count": 8,
   "metadata": {},
   "outputs": [
    {
     "name": "stdout",
     "output_type": "stream",
     "text": [
      "                           imdbRating  ratingCount  duration      year  \\\n",
      "imdbRating                   1.000000     0.426505  0.293285 -0.209957   \n",
      "ratingCount                  0.426505     1.000000  0.298159  0.081673   \n",
      "duration                     0.293285     0.298159  1.000000 -0.129166   \n",
      "year                        -0.209957     0.081673 -0.129166  1.000000   \n",
      "nrOfWins                     0.417643     0.454457  0.231173  0.039443   \n",
      "nrOfNominations              0.377736     0.470340  0.200230  0.126393   \n",
      "nrOfPhotos                   0.132095     0.400933  0.108760  0.106449   \n",
      "nrOfNewsArticles             0.188671     0.546801  0.130130  0.194341   \n",
      "nrOfUserReviews              0.261236     0.770709  0.301910  0.079863   \n",
      "nrOfGenre                   -0.045350     0.037948  0.110207  0.049992   \n",
      "num_critic_for_reviews       0.251750     0.564530  0.184400  0.410752   \n",
      "director_facebook_likes      0.180408     0.272568  0.168791 -0.053661   \n",
      "actor_3_facebook_likes       0.032251     0.259832  0.103926  0.127026   \n",
      "actor_1_facebook_likes       0.042806     0.185499  0.071231  0.120714   \n",
      "gross                        0.153569     0.612288  0.222251  0.036894   \n",
      "num_voted_users              0.435309     0.988867  0.294668  0.089568   \n",
      "cast_total_facebook_likes    0.045150     0.246858  0.098187  0.151648   \n",
      "facenumber_in_poster        -0.057649    -0.016807  0.001888  0.023918   \n",
      "num_user_for_reviews         0.279757     0.790755  0.306582  0.084485   \n",
      "budget                       0.008011     0.048175  0.062426  0.064647   \n",
      "actor_2_facebook_likes       0.041592     0.231352  0.101521  0.132190   \n",
      "aspect_ratio                 0.039420     0.021305 -0.091976  0.152941   \n",
      "movie_facebook_likes         0.276437     0.476028  0.151490  0.245324   \n",
      "\n",
      "                           nrOfWins  nrOfNominations  nrOfPhotos  \\\n",
      "imdbRating                 0.417643         0.377736    0.132095   \n",
      "ratingCount                0.454457         0.470340    0.400933   \n",
      "duration                   0.231173         0.200230    0.108760   \n",
      "year                       0.039443         0.126393    0.106449   \n",
      "nrOfWins                   1.000000         0.781063    0.187661   \n",
      "nrOfNominations            0.781063         1.000000    0.334393   \n",
      "nrOfPhotos                 0.187661         0.334393    1.000000   \n",
      "nrOfNewsArticles           0.293945         0.400937    0.395193   \n",
      "nrOfUserReviews            0.400286         0.442092    0.402580   \n",
      "nrOfGenre                 -0.029291         0.022617    0.105233   \n",
      "num_critic_for_reviews     0.350735         0.454752    0.313853   \n",
      "director_facebook_likes    0.146008         0.180351    0.131389   \n",
      "actor_3_facebook_likes     0.088886         0.160228    0.196051   \n",
      "actor_1_facebook_likes     0.022491         0.070858    0.113156   \n",
      "gross                      0.246469         0.378110    0.522150   \n",
      "num_voted_users            0.449073         0.465302    0.384627   \n",
      "cast_total_facebook_likes  0.043226         0.111602    0.169425   \n",
      "facenumber_in_poster      -0.080229        -0.053833    0.053880   \n",
      "num_user_for_reviews       0.405795         0.443731    0.395587   \n",
      "budget                     0.018650         0.037453    0.050675   \n",
      "actor_2_facebook_likes     0.068962         0.138507    0.191801   \n",
      "aspect_ratio              -0.016529         0.029220    0.198949   \n",
      "movie_facebook_likes       0.259684         0.335594    0.156953   \n",
      "\n",
      "                           nrOfNewsArticles  nrOfUserReviews  nrOfGenre  \\\n",
      "imdbRating                         0.188671         0.261236  -0.045350   \n",
      "ratingCount                        0.546801         0.770709   0.037948   \n",
      "duration                           0.130130         0.301910   0.110207   \n",
      "year                               0.194341         0.079863   0.049992   \n",
      "nrOfWins                           0.293945         0.400286  -0.029291   \n",
      "nrOfNominations                    0.400937         0.442092   0.022617   \n",
      "nrOfPhotos                         0.395193         0.402580   0.105233   \n",
      "nrOfNewsArticles                   1.000000         0.419336   0.051285   \n",
      "nrOfUserReviews                    0.419336         1.000000   0.035995   \n",
      "nrOfGenre                          0.051285         0.035995   1.000000   \n",
      "num_critic_for_reviews             0.630154         0.515355   0.041540   \n",
      "director_facebook_likes            0.164176         0.181611  -0.004202   \n",
      "actor_3_facebook_likes             0.330512         0.189838   0.043540   \n",
      "actor_1_facebook_likes             0.154805         0.121412  -0.003703   \n",
      "gross                              0.525989         0.513995   0.121974   \n",
      "num_voted_users                    0.559344         0.735729   0.041761   \n",
      "cast_total_facebook_likes          0.245141         0.171252   0.014623   \n",
      "facenumber_in_poster              -0.012308        -0.070254  -0.043664   \n",
      "num_user_for_reviews               0.438156         0.990906   0.034587   \n",
      "budget                             0.053001         0.053282   0.055453   \n",
      "actor_2_facebook_likes             0.261965         0.174543   0.043295   \n",
      "aspect_ratio                       0.054872         0.009072   0.021387   \n",
      "movie_facebook_likes               0.515352         0.273476  -0.004187   \n",
      "\n",
      "                                   ...           actor_1_facebook_likes  \\\n",
      "imdbRating                         ...                         0.042806   \n",
      "ratingCount                        ...                         0.185499   \n",
      "duration                           ...                         0.071231   \n",
      "year                               ...                         0.120714   \n",
      "nrOfWins                           ...                         0.022491   \n",
      "nrOfNominations                    ...                         0.070858   \n",
      "nrOfPhotos                         ...                         0.113156   \n",
      "nrOfNewsArticles                   ...                         0.154805   \n",
      "nrOfUserReviews                    ...                         0.121412   \n",
      "nrOfGenre                          ...                        -0.003703   \n",
      "num_critic_for_reviews             ...                         0.175630   \n",
      "director_facebook_likes            ...                         0.094280   \n",
      "actor_3_facebook_likes             ...                         0.262517   \n",
      "actor_1_facebook_likes             ...                         1.000000   \n",
      "gross                              ...                         0.135051   \n",
      "num_voted_users                    ...                         0.184268   \n",
      "cast_total_facebook_likes          ...                         0.947915   \n",
      "facenumber_in_poster               ...                         0.057544   \n",
      "num_user_for_reviews               ...                         0.127777   \n",
      "budget                             ...                         0.011504   \n",
      "actor_2_facebook_likes             ...                         0.397321   \n",
      "aspect_ratio                       ...                        -0.000454   \n",
      "movie_facebook_likes               ...                         0.129550   \n",
      "\n",
      "                              gross  num_voted_users  \\\n",
      "imdbRating                 0.153569         0.435309   \n",
      "ratingCount                0.612288         0.988867   \n",
      "duration                   0.222251         0.294668   \n",
      "year                       0.036894         0.089568   \n",
      "nrOfWins                   0.246469         0.449073   \n",
      "nrOfNominations            0.378110         0.465302   \n",
      "nrOfPhotos                 0.522150         0.384627   \n",
      "nrOfNewsArticles           0.525989         0.559344   \n",
      "nrOfUserReviews            0.513995         0.735729   \n",
      "nrOfGenre                  0.121974         0.041761   \n",
      "num_critic_for_reviews     0.421259         0.581781   \n",
      "director_facebook_likes    0.120489         0.276817   \n",
      "actor_3_facebook_likes     0.278463         0.271706   \n",
      "actor_1_facebook_likes     0.135051         0.184268   \n",
      "gross                      1.000000         0.619184   \n",
      "num_voted_users            0.619184         1.000000   \n",
      "cast_total_facebook_likes  0.215569         0.250064   \n",
      "facenumber_in_poster      -0.016221        -0.017452   \n",
      "num_user_for_reviews       0.534274         0.772594   \n",
      "budget                     0.074343         0.051215   \n",
      "actor_2_facebook_likes     0.226000         0.238550   \n",
      "aspect_ratio               0.103336         0.024276   \n",
      "movie_facebook_likes       0.302604         0.535580   \n",
      "\n",
      "                           cast_total_facebook_likes  facenumber_in_poster  \\\n",
      "imdbRating                                  0.045150             -0.057649   \n",
      "ratingCount                                 0.246858             -0.016807   \n",
      "duration                                    0.098187              0.001888   \n",
      "year                                        0.151648              0.023918   \n",
      "nrOfWins                                    0.043226             -0.080229   \n",
      "nrOfNominations                             0.111602             -0.053833   \n",
      "nrOfPhotos                                  0.169425              0.053880   \n",
      "nrOfNewsArticles                            0.245141             -0.012308   \n",
      "nrOfUserReviews                             0.171252             -0.070254   \n",
      "nrOfGenre                                   0.014623             -0.043664   \n",
      "num_critic_for_reviews                      0.240639             -0.039164   \n",
      "director_facebook_likes                     0.122894             -0.043459   \n",
      "actor_3_facebook_likes                      0.487169              0.114435   \n",
      "actor_1_facebook_likes                      0.947915              0.057544   \n",
      "gross                                       0.215569             -0.016221   \n",
      "num_voted_users                             0.250064             -0.017452   \n",
      "cast_total_facebook_likes                   1.000000              0.080834   \n",
      "facenumber_in_poster                        0.080834              1.000000   \n",
      "num_user_for_reviews                        0.181892             -0.070275   \n",
      "budget                                      0.020614             -0.022420   \n",
      "actor_2_facebook_likes                      0.642287              0.071150   \n",
      "aspect_ratio                                0.005630              0.007662   \n",
      "movie_facebook_likes                        0.194837              0.010270   \n",
      "\n",
      "                           num_user_for_reviews    budget  \\\n",
      "imdbRating                             0.279757  0.008011   \n",
      "ratingCount                            0.790755  0.048175   \n",
      "duration                               0.306582  0.062426   \n",
      "year                                   0.084485  0.064647   \n",
      "nrOfWins                               0.405795  0.018650   \n",
      "nrOfNominations                        0.443731  0.037453   \n",
      "nrOfPhotos                             0.395587  0.050675   \n",
      "nrOfNewsArticles                       0.438156  0.053001   \n",
      "nrOfUserReviews                        0.990906  0.053282   \n",
      "nrOfGenre                              0.034587  0.055453   \n",
      "num_critic_for_reviews                 0.550451  0.094866   \n",
      "director_facebook_likes                0.192731  0.011174   \n",
      "actor_3_facebook_likes                 0.207382  0.030366   \n",
      "actor_1_facebook_likes                 0.127777  0.011504   \n",
      "gross                                  0.534274  0.074343   \n",
      "num_voted_users                        0.772594  0.051215   \n",
      "cast_total_facebook_likes              0.181892  0.020614   \n",
      "facenumber_in_poster                  -0.070275 -0.022420   \n",
      "num_user_for_reviews                   1.000000  0.054681   \n",
      "budget                                 0.054681  1.000000   \n",
      "actor_2_facebook_likes                 0.185134  0.026508   \n",
      "aspect_ratio                           0.016416  0.024124   \n",
      "movie_facebook_likes                   0.338302  0.035448   \n",
      "\n",
      "                           actor_2_facebook_likes  aspect_ratio  \\\n",
      "imdbRating                               0.041592      0.039420   \n",
      "ratingCount                              0.231352      0.021305   \n",
      "duration                                 0.101521     -0.091976   \n",
      "year                                     0.132190      0.152941   \n",
      "nrOfWins                                 0.068962     -0.016529   \n",
      "nrOfNominations                          0.138507      0.029220   \n",
      "nrOfPhotos                               0.191801      0.198949   \n",
      "nrOfNewsArticles                         0.261965      0.054872   \n",
      "nrOfUserReviews                          0.174543      0.009072   \n",
      "nrOfGenre                                0.043295      0.021387   \n",
      "num_critic_for_reviews                   0.241337      0.009669   \n",
      "director_facebook_likes                  0.113988      0.017487   \n",
      "actor_3_facebook_likes                   0.539530      0.014594   \n",
      "actor_1_facebook_likes                   0.397321     -0.000454   \n",
      "gross                                    0.226000      0.103336   \n",
      "num_voted_users                          0.238550      0.024276   \n",
      "cast_total_facebook_likes                0.642287      0.005630   \n",
      "facenumber_in_poster                     0.071150      0.007662   \n",
      "num_user_for_reviews                     0.185134      0.016416   \n",
      "budget                                   0.026508      0.024124   \n",
      "actor_2_facebook_likes                   1.000000      0.011315   \n",
      "aspect_ratio                             0.011315      1.000000   \n",
      "movie_facebook_likes                     0.199279      0.055951   \n",
      "\n",
      "                           movie_facebook_likes  \n",
      "imdbRating                             0.276437  \n",
      "ratingCount                            0.476028  \n",
      "duration                               0.151490  \n",
      "year                                   0.245324  \n",
      "nrOfWins                               0.259684  \n",
      "nrOfNominations                        0.335594  \n",
      "nrOfPhotos                             0.156953  \n",
      "nrOfNewsArticles                       0.515352  \n",
      "nrOfUserReviews                        0.273476  \n",
      "nrOfGenre                             -0.004187  \n",
      "num_critic_for_reviews                 0.676761  \n",
      "director_facebook_likes                0.137666  \n",
      "actor_3_facebook_likes                 0.272132  \n",
      "actor_1_facebook_likes                 0.129550  \n",
      "gross                                  0.302604  \n",
      "num_voted_users                        0.535580  \n",
      "cast_total_facebook_likes              0.194837  \n",
      "facenumber_in_poster                   0.010270  \n",
      "num_user_for_reviews                   0.338302  \n",
      "budget                                 0.035448  \n",
      "actor_2_facebook_likes                 0.199279  \n",
      "aspect_ratio                           0.055951  \n",
      "movie_facebook_likes                   1.000000  \n",
      "\n",
      "[23 rows x 23 columns]\n"
     ]
    }
   ],
   "source": [
    "#correlation matrix\n",
    "print(result_df.corr())"
   ]
  },
  {
   "cell_type": "code",
   "execution_count": 9,
   "metadata": {},
   "outputs": [
    {
     "data": {
      "text/html": [
       "        <script type=\"text/javascript\">\n",
       "        window.PlotlyConfig = {MathJaxConfig: 'local'};\n",
       "        if (window.MathJax) {MathJax.Hub.Config({SVG: {font: \"STIX-Web\"}});}\n",
       "        if (typeof require !== 'undefined') {\n",
       "        require.undef(\"plotly\");\n",
       "        requirejs.config({\n",
       "            paths: {\n",
       "                'plotly': ['https://cdn.plot.ly/plotly-latest.min']\n",
       "            }\n",
       "        });\n",
       "        require(['plotly'], function(Plotly) {\n",
       "            window._Plotly = Plotly;\n",
       "        });\n",
       "        }\n",
       "        </script>\n",
       "        "
      ]
     },
     "metadata": {},
     "output_type": "display_data"
    },
    {
     "data": {
      "text/html": [
       "        <script type=\"text/javascript\">\n",
       "        window.PlotlyConfig = {MathJaxConfig: 'local'};\n",
       "        if (window.MathJax) {MathJax.Hub.Config({SVG: {font: \"STIX-Web\"}});}\n",
       "        if (typeof require !== 'undefined') {\n",
       "        require.undef(\"plotly\");\n",
       "        requirejs.config({\n",
       "            paths: {\n",
       "                'plotly': ['https://cdn.plot.ly/plotly-latest.min']\n",
       "            }\n",
       "        });\n",
       "        require(['plotly'], function(Plotly) {\n",
       "            window._Plotly = Plotly;\n",
       "        });\n",
       "        }\n",
       "        </script>\n",
       "        "
      ]
     },
     "metadata": {},
     "output_type": "display_data"
    },
    {
     "data": {
      "application/vnd.plotly.v1+json": {
       "config": {
        "linkText": "Export to plot.ly",
        "plotlyServerURL": "https://plot.ly",
        "showLink": true
       },
       "data": [
        {
         "colorscale": [
          [
           0,
           "rgb(255,255,204)"
          ],
          [
           0.125,
           "rgb(255,237,160)"
          ],
          [
           0.25,
           "rgb(254,217,118)"
          ],
          [
           0.375,
           "rgb(254,178,76)"
          ],
          [
           0.5,
           "rgb(253,141,60)"
          ],
          [
           0.625,
           "rgb(252,78,42)"
          ],
          [
           0.75,
           "rgb(227,26,28)"
          ],
          [
           0.875,
           "rgb(189,0,38)"
          ],
          [
           1,
           "rgb(128,0,38)"
          ]
         ],
         "type": "heatmap",
         "x": [
          "imdbRating",
          "ratingCount",
          "duration",
          "year",
          "nrOfWins",
          "nrOfNominations",
          "nrOfPhotos",
          "nrOfNewsArticles",
          "nrOfUserReviews",
          "nrOfGenre",
          "num_critic_for_reviews",
          "director_facebook_likes",
          "actor_3_facebook_likes",
          "actor_1_facebook_likes",
          "gross",
          "num_voted_users",
          "cast_total_facebook_likes",
          "facenumber_in_poster",
          "num_user_for_reviews",
          "budget",
          "actor_2_facebook_likes",
          "aspect_ratio",
          "movie_facebook_likes"
         ],
         "y": [
          "imdbRating",
          "ratingCount",
          "duration",
          "year",
          "nrOfWins",
          "nrOfNominations",
          "nrOfPhotos",
          "nrOfNewsArticles",
          "nrOfUserReviews",
          "nrOfGenre",
          "num_critic_for_reviews",
          "director_facebook_likes",
          "actor_3_facebook_likes",
          "actor_1_facebook_likes",
          "gross",
          "num_voted_users",
          "cast_total_facebook_likes",
          "facenumber_in_poster",
          "num_user_for_reviews",
          "budget",
          "actor_2_facebook_likes",
          "aspect_ratio",
          "movie_facebook_likes"
         ],
         "z": [
          [
           1,
           0.4265049047985686,
           0.29328541796220947,
           -0.20995666366353438,
           0.4176431794566282,
           0.3777357813635939,
           0.13209524551229718,
           0.1886711481998173,
           0.2612359453327282,
           -0.045350191223749815,
           0.2517504971747821,
           0.1804078718179374,
           0.03225131090814515,
           0.042806466395511784,
           0.1535694630445047,
           0.4353094562699254,
           0.045150405484136014,
           -0.05764866941741512,
           0.27975723656766444,
           0.008010659580923351,
           0.04159211509855974,
           0.039420062738536654,
           0.27643654605932094
          ],
          [
           0.4265049047985686,
           1,
           0.29815871852420556,
           0.08167283018083928,
           0.45445684170618955,
           0.47033959198442404,
           0.4009329591886356,
           0.5468008769227467,
           0.7707089089669987,
           0.03794829006196155,
           0.5645301914520278,
           0.27256764314402837,
           0.25983153003530046,
           0.18549948113917866,
           0.6122881555448019,
           0.9888667425691107,
           0.24685781367937384,
           -0.016806684429857062,
           0.7907547860393709,
           0.04817476362339746,
           0.23135193402040877,
           0.021304906314325144,
           0.47602791843342496
          ],
          [
           0.29328541796220947,
           0.29815871852420556,
           1,
           -0.129165964554509,
           0.23117299117969387,
           0.20023042994477686,
           0.10875985393452725,
           0.1301298455424985,
           0.30190982435192026,
           0.11020677026212092,
           0.18439999667113524,
           0.16879079653915985,
           0.10392589620256365,
           0.0712307803901699,
           0.22225092907480498,
           0.2946684301769625,
           0.09818683786342054,
           0.001888494419112569,
           0.3065824206447476,
           0.062426234527143264,
           0.10152106823670416,
           -0.09197588948998986,
           0.15149021436930435
          ],
          [
           -0.20995666366353438,
           0.08167283018083928,
           -0.129165964554509,
           1,
           0.039443377265454105,
           0.12639271871127938,
           0.10644866869343825,
           0.19434084179353825,
           0.07986262932617592,
           0.04999175102219405,
           0.4107524911136238,
           -0.05366120373839048,
           0.1270255395447879,
           0.12071378698956856,
           0.03689354166735962,
           0.08956798995597502,
           0.1516479893871698,
           0.02391803034020814,
           0.0844850677769962,
           0.06464735463264511,
           0.13218979614971973,
           0.15294119127474365,
           0.24532422884657568
          ],
          [
           0.4176431794566282,
           0.45445684170618955,
           0.23117299117969387,
           0.039443377265454105,
           1,
           0.7810627364448499,
           0.18766090287646062,
           0.29394482477814143,
           0.40028578585040586,
           -0.029291025076331616,
           0.35073531889875353,
           0.1460076996745203,
           0.08888589466580246,
           0.022490812038554728,
           0.24646935470748552,
           0.44907337146544435,
           0.043225613275851754,
           -0.08022869119239058,
           0.4057946328370677,
           0.018650441825797406,
           0.06896172703357235,
           -0.016529312124593985,
           0.25968395716991677
          ],
          [
           0.3777357813635939,
           0.47033959198442404,
           0.20023042994477686,
           0.12639271871127938,
           0.7810627364448499,
           1,
           0.3343934688988914,
           0.40093706872355916,
           0.4420917794575705,
           0.022617265118242472,
           0.45475174282997366,
           0.18035142094882955,
           0.1602280822205119,
           0.07085785409890401,
           0.3781095755538149,
           0.46530239617447533,
           0.11160171124287424,
           -0.053832667355618855,
           0.4437309020242835,
           0.037452676426066964,
           0.13850667620107415,
           0.02921997459469861,
           0.3355942760554976
          ],
          [
           0.13209524551229718,
           0.4009329591886356,
           0.10875985393452725,
           0.10644866869343825,
           0.18766090287646062,
           0.3343934688988914,
           1,
           0.3951929869278809,
           0.4025798710945699,
           0.10523311534052118,
           0.31385310018075974,
           0.1313887570101803,
           0.19605114390051318,
           0.11315582722215373,
           0.5221503692489126,
           0.38462710792767035,
           0.16942531338722333,
           0.053879598415421275,
           0.3955870039075791,
           0.0506747623027364,
           0.19180080454738108,
           0.19894917178514945,
           0.15695256769187216
          ],
          [
           0.1886711481998173,
           0.5468008769227467,
           0.1301298455424985,
           0.19434084179353825,
           0.29394482477814143,
           0.40093706872355916,
           0.3951929869278809,
           1,
           0.4193355970909689,
           0.05128468335157315,
           0.6301540383935574,
           0.1641763455160399,
           0.33051190818552756,
           0.15480464304672237,
           0.5259885638493881,
           0.5593444854912052,
           0.24514143050533116,
           -0.012308133073925651,
           0.43815604659862956,
           0.053000850553290055,
           0.2619653791244605,
           0.054872492734036764,
           0.5153516573068508
          ],
          [
           0.2612359453327282,
           0.7707089089669987,
           0.30190982435192026,
           0.07986262932617592,
           0.40028578585040586,
           0.4420917794575705,
           0.4025798710945699,
           0.4193355970909689,
           1,
           0.035995281046996126,
           0.515354631105395,
           0.18161135006545784,
           0.18983821055853758,
           0.1214121224804005,
           0.5139952555607669,
           0.7357291853522007,
           0.17125177833808317,
           -0.07025428540011207,
           0.9909055609219757,
           0.0532824145251672,
           0.1745427689184993,
           0.009072407481305873,
           0.27347577734835465
          ],
          [
           -0.045350191223749815,
           0.03794829006196155,
           0.11020677026212092,
           0.04999175102219405,
           -0.029291025076331616,
           0.022617265118242472,
           0.10523311534052118,
           0.05128468335157315,
           0.035995281046996126,
           1,
           0.04154036839132233,
           -0.00420166191453347,
           0.04354009246528889,
           -0.0037031424090175607,
           0.12197411420586982,
           0.0417613101834748,
           0.01462317338338444,
           -0.043664446145005274,
           0.03458661396703009,
           0.055452925979204544,
           0.04329544040370001,
           0.021386627157810718,
           -0.004186793817498717
          ],
          [
           0.2517504971747821,
           0.5645301914520278,
           0.18439999667113524,
           0.4107524911136238,
           0.35073531889875353,
           0.45475174282997366,
           0.31385310018075974,
           0.6301540383935574,
           0.515354631105395,
           0.04154036839132233,
           1,
           0.1456653563376614,
           0.25668764975267955,
           0.17562983004561478,
           0.42125877558166624,
           0.5817808667858819,
           0.24063927713089364,
           -0.03916443890054769,
           0.5504513828276687,
           0.09486646643195148,
           0.24133738818285827,
           0.009668880462056875,
           0.6767608032481282
          ],
          [
           0.1804078718179374,
           0.27256764314402837,
           0.16879079653915985,
           -0.05366120373839048,
           0.1460076996745203,
           0.18035142094882955,
           0.1313887570101803,
           0.1641763455160399,
           0.18161135006545784,
           -0.00420166191453347,
           0.1456653563376614,
           1,
           0.1267450163054883,
           0.09427953947899465,
           0.12048868810840128,
           0.2768169460977573,
           0.12289443910867408,
           -0.04345884206999679,
           0.19273122662119632,
           0.01117372901419999,
           0.11398750528615481,
           0.017487499755874488,
           0.1376659518588644
          ],
          [
           0.03225131090814515,
           0.25983153003530046,
           0.10392589620256365,
           0.1270255395447879,
           0.08888589466580246,
           0.1602280822205119,
           0.19605114390051318,
           0.33051190818552756,
           0.18983821055853758,
           0.04354009246528889,
           0.25668764975267955,
           0.1267450163054883,
           1,
           0.2625173084786551,
           0.27846288473045683,
           0.2717055280053076,
           0.487169076293779,
           0.11443515315538132,
           0.20738162906126725,
           0.030365599483419065,
           0.5395296845703075,
           0.014593539864880663,
           0.2721316535550602
          ],
          [
           0.042806466395511784,
           0.18549948113917866,
           0.0712307803901699,
           0.12071378698956856,
           0.022490812038554728,
           0.07085785409890401,
           0.11315582722215373,
           0.15480464304672237,
           0.1214121224804005,
           -0.0037031424090175607,
           0.17562983004561478,
           0.09427953947899465,
           0.2625173084786551,
           1,
           0.13505065968457539,
           0.18426823219403804,
           0.9479145302211172,
           0.05754438607622893,
           0.12777728301248326,
           0.011504278718092838,
           0.39732090650446655,
           -0.00045402291955699695,
           0.1295495435589928
          ],
          [
           0.1535694630445047,
           0.6122881555448019,
           0.22225092907480498,
           0.03689354166735962,
           0.24646935470748552,
           0.3781095755538149,
           0.5221503692489126,
           0.5259885638493881,
           0.5139952555607669,
           0.12197411420586982,
           0.42125877558166624,
           0.12048868810840128,
           0.27846288473045683,
           0.13505065968457539,
           1,
           0.6191843333133764,
           0.21556943478789703,
           -0.016220871754694475,
           0.5342743073045819,
           0.07434269489174006,
           0.22600021001159884,
           0.1033362805327725,
           0.3026043818173012
          ],
          [
           0.4353094562699254,
           0.9888667425691107,
           0.2946684301769625,
           0.08956798995597502,
           0.44907337146544435,
           0.46530239617447533,
           0.38462710792767035,
           0.5593444854912052,
           0.7357291853522007,
           0.0417613101834748,
           0.5817808667858819,
           0.2768169460977573,
           0.2717055280053076,
           0.18426823219403804,
           0.6191843333133764,
           1,
           0.25006398485552456,
           -0.01745184718794776,
           0.7725943387557334,
           0.051214965084359396,
           0.23854974063259124,
           0.024275795100171846,
           0.5355797695247282
          ],
          [
           0.045150405484136014,
           0.24685781367937384,
           0.09818683786342054,
           0.1516479893871698,
           0.043225613275851754,
           0.11160171124287424,
           0.16942531338722333,
           0.24514143050533116,
           0.17125177833808317,
           0.01462317338338444,
           0.24063927713089364,
           0.12289443910867408,
           0.487169076293779,
           0.9479145302211172,
           0.21556943478789703,
           0.25006398485552456,
           1,
           0.08083366520969562,
           0.1818919276013115,
           0.020614312804072353,
           0.6422871278987019,
           0.005629900947525168,
           0.19483734570649558
          ],
          [
           -0.05764866941741512,
           -0.016806684429857062,
           0.001888494419112569,
           0.02391803034020814,
           -0.08022869119239058,
           -0.053832667355618855,
           0.053879598415421275,
           -0.012308133073925651,
           -0.07025428540011207,
           -0.043664446145005274,
           -0.03916443890054769,
           -0.04345884206999679,
           0.11443515315538132,
           0.05754438607622893,
           -0.016220871754694475,
           -0.01745184718794776,
           0.08083366520969562,
           1,
           -0.07027483718624557,
           -0.022419915253518947,
           0.0711500803365073,
           0.007662243175247269,
           0.010269579957999951
          ],
          [
           0.27975723656766444,
           0.7907547860393709,
           0.3065824206447476,
           0.0844850677769962,
           0.4057946328370677,
           0.4437309020242835,
           0.3955870039075791,
           0.43815604659862956,
           0.9909055609219757,
           0.03458661396703009,
           0.5504513828276687,
           0.19273122662119632,
           0.20738162906126725,
           0.12777728301248326,
           0.5342743073045819,
           0.7725943387557334,
           0.1818919276013115,
           -0.07027483718624557,
           1,
           0.054681088376972456,
           0.1851339619285335,
           0.016415876899640337,
           0.33830240788605587
          ],
          [
           0.008010659580923351,
           0.04817476362339746,
           0.062426234527143264,
           0.06464735463264511,
           0.018650441825797406,
           0.037452676426066964,
           0.0506747623027364,
           0.053000850553290055,
           0.0532824145251672,
           0.055452925979204544,
           0.09486646643195148,
           0.01117372901419999,
           0.030365599483419065,
           0.011504278718092838,
           0.07434269489174006,
           0.051214965084359396,
           0.020614312804072353,
           -0.022419915253518947,
           0.054681088376972456,
           1,
           0.026507853231787087,
           0.024123622255552753,
           0.035448361711064205
          ],
          [
           0.04159211509855974,
           0.23135193402040877,
           0.10152106823670416,
           0.13218979614971973,
           0.06896172703357235,
           0.13850667620107415,
           0.19180080454738108,
           0.2619653791244605,
           0.1745427689184993,
           0.04329544040370001,
           0.24133738818285827,
           0.11398750528615481,
           0.5395296845703075,
           0.39732090650446655,
           0.22600021001159884,
           0.23854974063259124,
           0.6422871278987019,
           0.0711500803365073,
           0.1851339619285335,
           0.026507853231787087,
           1,
           0.01131484439622841,
           0.19927883812503883
          ],
          [
           0.039420062738536654,
           0.021304906314325144,
           -0.09197588948998986,
           0.15294119127474365,
           -0.016529312124593985,
           0.02921997459469861,
           0.19894917178514945,
           0.054872492734036764,
           0.009072407481305873,
           0.021386627157810718,
           0.009668880462056875,
           0.017487499755874488,
           0.014593539864880663,
           -0.00045402291955699695,
           0.1033362805327725,
           0.024275795100171846,
           0.005629900947525168,
           0.007662243175247269,
           0.016415876899640337,
           0.024123622255552753,
           0.01131484439622841,
           1,
           0.05595078170919033
          ],
          [
           0.27643654605932094,
           0.47602791843342496,
           0.15149021436930435,
           0.24532422884657568,
           0.25968395716991677,
           0.3355942760554976,
           0.15695256769187216,
           0.5153516573068508,
           0.27347577734835465,
           -0.004186793817498717,
           0.6767608032481282,
           0.1376659518588644,
           0.2721316535550602,
           0.1295495435589928,
           0.3026043818173012,
           0.5355797695247282,
           0.19483734570649558,
           0.010269579957999951,
           0.33830240788605587,
           0.035448361711064205,
           0.19927883812503883,
           0.05595078170919033,
           1
          ]
         ],
         "zmax": 1,
         "zmin": -0.20995666366353438
        }
       ],
       "layout": {
        "legend": {
         "bgcolor": "#F5F6F9",
         "font": {
          "color": "#4D5663"
         }
        },
        "paper_bgcolor": "#F5F6F9",
        "plot_bgcolor": "#F5F6F9",
        "template": {
         "data": {
          "bar": [
           {
            "error_x": {
             "color": "#2a3f5f"
            },
            "error_y": {
             "color": "#2a3f5f"
            },
            "marker": {
             "line": {
              "color": "#E5ECF6",
              "width": 0.5
             }
            },
            "type": "bar"
           }
          ],
          "barpolar": [
           {
            "marker": {
             "line": {
              "color": "#E5ECF6",
              "width": 0.5
             }
            },
            "type": "barpolar"
           }
          ],
          "carpet": [
           {
            "aaxis": {
             "endlinecolor": "#2a3f5f",
             "gridcolor": "white",
             "linecolor": "white",
             "minorgridcolor": "white",
             "startlinecolor": "#2a3f5f"
            },
            "baxis": {
             "endlinecolor": "#2a3f5f",
             "gridcolor": "white",
             "linecolor": "white",
             "minorgridcolor": "white",
             "startlinecolor": "#2a3f5f"
            },
            "type": "carpet"
           }
          ],
          "choropleth": [
           {
            "colorbar": {
             "outlinewidth": 0,
             "ticks": ""
            },
            "type": "choropleth"
           }
          ],
          "contour": [
           {
            "colorbar": {
             "outlinewidth": 0,
             "ticks": ""
            },
            "colorscale": [
             [
              0,
              "#0d0887"
             ],
             [
              0.1111111111111111,
              "#46039f"
             ],
             [
              0.2222222222222222,
              "#7201a8"
             ],
             [
              0.3333333333333333,
              "#9c179e"
             ],
             [
              0.4444444444444444,
              "#bd3786"
             ],
             [
              0.5555555555555556,
              "#d8576b"
             ],
             [
              0.6666666666666666,
              "#ed7953"
             ],
             [
              0.7777777777777778,
              "#fb9f3a"
             ],
             [
              0.8888888888888888,
              "#fdca26"
             ],
             [
              1,
              "#f0f921"
             ]
            ],
            "type": "contour"
           }
          ],
          "contourcarpet": [
           {
            "colorbar": {
             "outlinewidth": 0,
             "ticks": ""
            },
            "type": "contourcarpet"
           }
          ],
          "heatmap": [
           {
            "colorbar": {
             "outlinewidth": 0,
             "ticks": ""
            },
            "colorscale": [
             [
              0,
              "#0d0887"
             ],
             [
              0.1111111111111111,
              "#46039f"
             ],
             [
              0.2222222222222222,
              "#7201a8"
             ],
             [
              0.3333333333333333,
              "#9c179e"
             ],
             [
              0.4444444444444444,
              "#bd3786"
             ],
             [
              0.5555555555555556,
              "#d8576b"
             ],
             [
              0.6666666666666666,
              "#ed7953"
             ],
             [
              0.7777777777777778,
              "#fb9f3a"
             ],
             [
              0.8888888888888888,
              "#fdca26"
             ],
             [
              1,
              "#f0f921"
             ]
            ],
            "type": "heatmap"
           }
          ],
          "heatmapgl": [
           {
            "colorbar": {
             "outlinewidth": 0,
             "ticks": ""
            },
            "colorscale": [
             [
              0,
              "#0d0887"
             ],
             [
              0.1111111111111111,
              "#46039f"
             ],
             [
              0.2222222222222222,
              "#7201a8"
             ],
             [
              0.3333333333333333,
              "#9c179e"
             ],
             [
              0.4444444444444444,
              "#bd3786"
             ],
             [
              0.5555555555555556,
              "#d8576b"
             ],
             [
              0.6666666666666666,
              "#ed7953"
             ],
             [
              0.7777777777777778,
              "#fb9f3a"
             ],
             [
              0.8888888888888888,
              "#fdca26"
             ],
             [
              1,
              "#f0f921"
             ]
            ],
            "type": "heatmapgl"
           }
          ],
          "histogram": [
           {
            "marker": {
             "colorbar": {
              "outlinewidth": 0,
              "ticks": ""
             }
            },
            "type": "histogram"
           }
          ],
          "histogram2d": [
           {
            "colorbar": {
             "outlinewidth": 0,
             "ticks": ""
            },
            "colorscale": [
             [
              0,
              "#0d0887"
             ],
             [
              0.1111111111111111,
              "#46039f"
             ],
             [
              0.2222222222222222,
              "#7201a8"
             ],
             [
              0.3333333333333333,
              "#9c179e"
             ],
             [
              0.4444444444444444,
              "#bd3786"
             ],
             [
              0.5555555555555556,
              "#d8576b"
             ],
             [
              0.6666666666666666,
              "#ed7953"
             ],
             [
              0.7777777777777778,
              "#fb9f3a"
             ],
             [
              0.8888888888888888,
              "#fdca26"
             ],
             [
              1,
              "#f0f921"
             ]
            ],
            "type": "histogram2d"
           }
          ],
          "histogram2dcontour": [
           {
            "colorbar": {
             "outlinewidth": 0,
             "ticks": ""
            },
            "colorscale": [
             [
              0,
              "#0d0887"
             ],
             [
              0.1111111111111111,
              "#46039f"
             ],
             [
              0.2222222222222222,
              "#7201a8"
             ],
             [
              0.3333333333333333,
              "#9c179e"
             ],
             [
              0.4444444444444444,
              "#bd3786"
             ],
             [
              0.5555555555555556,
              "#d8576b"
             ],
             [
              0.6666666666666666,
              "#ed7953"
             ],
             [
              0.7777777777777778,
              "#fb9f3a"
             ],
             [
              0.8888888888888888,
              "#fdca26"
             ],
             [
              1,
              "#f0f921"
             ]
            ],
            "type": "histogram2dcontour"
           }
          ],
          "mesh3d": [
           {
            "colorbar": {
             "outlinewidth": 0,
             "ticks": ""
            },
            "type": "mesh3d"
           }
          ],
          "parcoords": [
           {
            "line": {
             "colorbar": {
              "outlinewidth": 0,
              "ticks": ""
             }
            },
            "type": "parcoords"
           }
          ],
          "pie": [
           {
            "automargin": true,
            "type": "pie"
           }
          ],
          "scatter": [
           {
            "marker": {
             "colorbar": {
              "outlinewidth": 0,
              "ticks": ""
             }
            },
            "type": "scatter"
           }
          ],
          "scatter3d": [
           {
            "line": {
             "colorbar": {
              "outlinewidth": 0,
              "ticks": ""
             }
            },
            "marker": {
             "colorbar": {
              "outlinewidth": 0,
              "ticks": ""
             }
            },
            "type": "scatter3d"
           }
          ],
          "scattercarpet": [
           {
            "marker": {
             "colorbar": {
              "outlinewidth": 0,
              "ticks": ""
             }
            },
            "type": "scattercarpet"
           }
          ],
          "scattergeo": [
           {
            "marker": {
             "colorbar": {
              "outlinewidth": 0,
              "ticks": ""
             }
            },
            "type": "scattergeo"
           }
          ],
          "scattergl": [
           {
            "marker": {
             "colorbar": {
              "outlinewidth": 0,
              "ticks": ""
             }
            },
            "type": "scattergl"
           }
          ],
          "scattermapbox": [
           {
            "marker": {
             "colorbar": {
              "outlinewidth": 0,
              "ticks": ""
             }
            },
            "type": "scattermapbox"
           }
          ],
          "scatterpolar": [
           {
            "marker": {
             "colorbar": {
              "outlinewidth": 0,
              "ticks": ""
             }
            },
            "type": "scatterpolar"
           }
          ],
          "scatterpolargl": [
           {
            "marker": {
             "colorbar": {
              "outlinewidth": 0,
              "ticks": ""
             }
            },
            "type": "scatterpolargl"
           }
          ],
          "scatterternary": [
           {
            "marker": {
             "colorbar": {
              "outlinewidth": 0,
              "ticks": ""
             }
            },
            "type": "scatterternary"
           }
          ],
          "surface": [
           {
            "colorbar": {
             "outlinewidth": 0,
             "ticks": ""
            },
            "colorscale": [
             [
              0,
              "#0d0887"
             ],
             [
              0.1111111111111111,
              "#46039f"
             ],
             [
              0.2222222222222222,
              "#7201a8"
             ],
             [
              0.3333333333333333,
              "#9c179e"
             ],
             [
              0.4444444444444444,
              "#bd3786"
             ],
             [
              0.5555555555555556,
              "#d8576b"
             ],
             [
              0.6666666666666666,
              "#ed7953"
             ],
             [
              0.7777777777777778,
              "#fb9f3a"
             ],
             [
              0.8888888888888888,
              "#fdca26"
             ],
             [
              1,
              "#f0f921"
             ]
            ],
            "type": "surface"
           }
          ],
          "table": [
           {
            "cells": {
             "fill": {
              "color": "#EBF0F8"
             },
             "line": {
              "color": "white"
             }
            },
            "header": {
             "fill": {
              "color": "#C8D4E3"
             },
             "line": {
              "color": "white"
             }
            },
            "type": "table"
           }
          ]
         },
         "layout": {
          "annotationdefaults": {
           "arrowcolor": "#2a3f5f",
           "arrowhead": 0,
           "arrowwidth": 1
          },
          "coloraxis": {
           "colorbar": {
            "outlinewidth": 0,
            "ticks": ""
           }
          },
          "colorscale": {
           "diverging": [
            [
             0,
             "#8e0152"
            ],
            [
             0.1,
             "#c51b7d"
            ],
            [
             0.2,
             "#de77ae"
            ],
            [
             0.3,
             "#f1b6da"
            ],
            [
             0.4,
             "#fde0ef"
            ],
            [
             0.5,
             "#f7f7f7"
            ],
            [
             0.6,
             "#e6f5d0"
            ],
            [
             0.7,
             "#b8e186"
            ],
            [
             0.8,
             "#7fbc41"
            ],
            [
             0.9,
             "#4d9221"
            ],
            [
             1,
             "#276419"
            ]
           ],
           "sequential": [
            [
             0,
             "#0d0887"
            ],
            [
             0.1111111111111111,
             "#46039f"
            ],
            [
             0.2222222222222222,
             "#7201a8"
            ],
            [
             0.3333333333333333,
             "#9c179e"
            ],
            [
             0.4444444444444444,
             "#bd3786"
            ],
            [
             0.5555555555555556,
             "#d8576b"
            ],
            [
             0.6666666666666666,
             "#ed7953"
            ],
            [
             0.7777777777777778,
             "#fb9f3a"
            ],
            [
             0.8888888888888888,
             "#fdca26"
            ],
            [
             1,
             "#f0f921"
            ]
           ],
           "sequentialminus": [
            [
             0,
             "#0d0887"
            ],
            [
             0.1111111111111111,
             "#46039f"
            ],
            [
             0.2222222222222222,
             "#7201a8"
            ],
            [
             0.3333333333333333,
             "#9c179e"
            ],
            [
             0.4444444444444444,
             "#bd3786"
            ],
            [
             0.5555555555555556,
             "#d8576b"
            ],
            [
             0.6666666666666666,
             "#ed7953"
            ],
            [
             0.7777777777777778,
             "#fb9f3a"
            ],
            [
             0.8888888888888888,
             "#fdca26"
            ],
            [
             1,
             "#f0f921"
            ]
           ]
          },
          "colorway": [
           "#636efa",
           "#EF553B",
           "#00cc96",
           "#ab63fa",
           "#FFA15A",
           "#19d3f3",
           "#FF6692",
           "#B6E880",
           "#FF97FF",
           "#FECB52"
          ],
          "font": {
           "color": "#2a3f5f"
          },
          "geo": {
           "bgcolor": "white",
           "lakecolor": "white",
           "landcolor": "#E5ECF6",
           "showlakes": true,
           "showland": true,
           "subunitcolor": "white"
          },
          "hoverlabel": {
           "align": "left"
          },
          "hovermode": "closest",
          "mapbox": {
           "style": "light"
          },
          "paper_bgcolor": "white",
          "plot_bgcolor": "#E5ECF6",
          "polar": {
           "angularaxis": {
            "gridcolor": "white",
            "linecolor": "white",
            "ticks": ""
           },
           "bgcolor": "#E5ECF6",
           "radialaxis": {
            "gridcolor": "white",
            "linecolor": "white",
            "ticks": ""
           }
          },
          "scene": {
           "xaxis": {
            "backgroundcolor": "#E5ECF6",
            "gridcolor": "white",
            "gridwidth": 2,
            "linecolor": "white",
            "showbackground": true,
            "ticks": "",
            "zerolinecolor": "white"
           },
           "yaxis": {
            "backgroundcolor": "#E5ECF6",
            "gridcolor": "white",
            "gridwidth": 2,
            "linecolor": "white",
            "showbackground": true,
            "ticks": "",
            "zerolinecolor": "white"
           },
           "zaxis": {
            "backgroundcolor": "#E5ECF6",
            "gridcolor": "white",
            "gridwidth": 2,
            "linecolor": "white",
            "showbackground": true,
            "ticks": "",
            "zerolinecolor": "white"
           }
          },
          "shapedefaults": {
           "line": {
            "color": "#2a3f5f"
           }
          },
          "ternary": {
           "aaxis": {
            "gridcolor": "white",
            "linecolor": "white",
            "ticks": ""
           },
           "baxis": {
            "gridcolor": "white",
            "linecolor": "white",
            "ticks": ""
           },
           "bgcolor": "#E5ECF6",
           "caxis": {
            "gridcolor": "white",
            "linecolor": "white",
            "ticks": ""
           }
          },
          "title": {
           "x": 0.05
          },
          "xaxis": {
           "automargin": true,
           "gridcolor": "white",
           "linecolor": "white",
           "ticks": "",
           "title": {
            "standoff": 15
           },
           "zerolinecolor": "white",
           "zerolinewidth": 2
          },
          "yaxis": {
           "automargin": true,
           "gridcolor": "white",
           "linecolor": "white",
           "ticks": "",
           "title": {
            "standoff": 15
           },
           "zerolinecolor": "white",
           "zerolinewidth": 2
          }
         }
        },
        "title": {
         "font": {
          "color": "#4D5663"
         }
        },
        "xaxis": {
         "gridcolor": "#E1E5ED",
         "showgrid": true,
         "tickfont": {
          "color": "#4D5663"
         },
         "title": {
          "font": {
           "color": "#4D5663"
          },
          "text": ""
         },
         "zerolinecolor": "#E1E5ED"
        },
        "yaxis": {
         "gridcolor": "#E1E5ED",
         "showgrid": true,
         "tickfont": {
          "color": "#4D5663"
         },
         "title": {
          "font": {
           "color": "#4D5663"
          },
          "text": ""
         },
         "zerolinecolor": "#E1E5ED"
        }
       }
      },
      "text/html": [
       "<div>\n",
       "        \n",
       "        \n",
       "            <div id=\"de7742a5-6dbb-411f-9dd3-1d3cbd96ced1\" class=\"plotly-graph-div\" style=\"height:525px; width:100%;\"></div>\n",
       "            <script type=\"text/javascript\">\n",
       "                require([\"plotly\"], function(Plotly) {\n",
       "                    window.PLOTLYENV=window.PLOTLYENV || {};\n",
       "                    window.PLOTLYENV.BASE_URL='https://plot.ly';\n",
       "                    \n",
       "                if (document.getElementById(\"de7742a5-6dbb-411f-9dd3-1d3cbd96ced1\")) {\n",
       "                    Plotly.newPlot(\n",
       "                        'de7742a5-6dbb-411f-9dd3-1d3cbd96ced1',\n",
       "                        [{\"colorscale\": [[0.0, \"rgb(255,255,204)\"], [0.125, \"rgb(255,237,160)\"], [0.25, \"rgb(254,217,118)\"], [0.375, \"rgb(254,178,76)\"], [0.5, \"rgb(253,141,60)\"], [0.625, \"rgb(252,78,42)\"], [0.75, \"rgb(227,26,28)\"], [0.875, \"rgb(189,0,38)\"], [1.0, \"rgb(128,0,38)\"]], \"type\": \"heatmap\", \"x\": [\"imdbRating\", \"ratingCount\", \"duration\", \"year\", \"nrOfWins\", \"nrOfNominations\", \"nrOfPhotos\", \"nrOfNewsArticles\", \"nrOfUserReviews\", \"nrOfGenre\", \"num_critic_for_reviews\", \"director_facebook_likes\", \"actor_3_facebook_likes\", \"actor_1_facebook_likes\", \"gross\", \"num_voted_users\", \"cast_total_facebook_likes\", \"facenumber_in_poster\", \"num_user_for_reviews\", \"budget\", \"actor_2_facebook_likes\", \"aspect_ratio\", \"movie_facebook_likes\"], \"y\": [\"imdbRating\", \"ratingCount\", \"duration\", \"year\", \"nrOfWins\", \"nrOfNominations\", \"nrOfPhotos\", \"nrOfNewsArticles\", \"nrOfUserReviews\", \"nrOfGenre\", \"num_critic_for_reviews\", \"director_facebook_likes\", \"actor_3_facebook_likes\", \"actor_1_facebook_likes\", \"gross\", \"num_voted_users\", \"cast_total_facebook_likes\", \"facenumber_in_poster\", \"num_user_for_reviews\", \"budget\", \"actor_2_facebook_likes\", \"aspect_ratio\", \"movie_facebook_likes\"], \"z\": [[1.0, 0.4265049047985686, 0.29328541796220947, -0.20995666366353438, 0.4176431794566282, 0.3777357813635939, 0.13209524551229718, 0.1886711481998173, 0.2612359453327282, -0.045350191223749815, 0.2517504971747821, 0.1804078718179374, 0.03225131090814515, 0.042806466395511784, 0.1535694630445047, 0.4353094562699254, 0.045150405484136014, -0.05764866941741512, 0.27975723656766444, 0.008010659580923351, 0.04159211509855974, 0.039420062738536654, 0.27643654605932094], [0.4265049047985686, 1.0, 0.29815871852420556, 0.08167283018083928, 0.45445684170618955, 0.47033959198442404, 0.4009329591886356, 0.5468008769227467, 0.7707089089669987, 0.03794829006196155, 0.5645301914520278, 0.27256764314402837, 0.25983153003530046, 0.18549948113917866, 0.6122881555448019, 0.9888667425691107, 0.24685781367937384, -0.016806684429857062, 0.7907547860393709, 0.04817476362339746, 0.23135193402040877, 0.021304906314325144, 0.47602791843342496], [0.29328541796220947, 0.29815871852420556, 1.0, -0.129165964554509, 0.23117299117969387, 0.20023042994477686, 0.10875985393452725, 0.1301298455424985, 0.30190982435192026, 0.11020677026212092, 0.18439999667113524, 0.16879079653915985, 0.10392589620256365, 0.0712307803901699, 0.22225092907480498, 0.2946684301769625, 0.09818683786342054, 0.001888494419112569, 0.3065824206447476, 0.062426234527143264, 0.10152106823670416, -0.09197588948998986, 0.15149021436930435], [-0.20995666366353438, 0.08167283018083928, -0.129165964554509, 1.0, 0.039443377265454105, 0.12639271871127938, 0.10644866869343825, 0.19434084179353825, 0.07986262932617592, 0.04999175102219405, 0.4107524911136238, -0.05366120373839048, 0.1270255395447879, 0.12071378698956856, 0.03689354166735962, 0.08956798995597502, 0.1516479893871698, 0.02391803034020814, 0.0844850677769962, 0.06464735463264511, 0.13218979614971973, 0.15294119127474365, 0.24532422884657568], [0.4176431794566282, 0.45445684170618955, 0.23117299117969387, 0.039443377265454105, 1.0, 0.7810627364448499, 0.18766090287646062, 0.29394482477814143, 0.40028578585040586, -0.029291025076331616, 0.35073531889875353, 0.1460076996745203, 0.08888589466580246, 0.022490812038554728, 0.24646935470748552, 0.44907337146544435, 0.043225613275851754, -0.08022869119239058, 0.4057946328370677, 0.018650441825797406, 0.06896172703357235, -0.016529312124593985, 0.25968395716991677], [0.3777357813635939, 0.47033959198442404, 0.20023042994477686, 0.12639271871127938, 0.7810627364448499, 1.0, 0.3343934688988914, 0.40093706872355916, 0.4420917794575705, 0.022617265118242472, 0.45475174282997366, 0.18035142094882955, 0.1602280822205119, 0.07085785409890401, 0.3781095755538149, 0.46530239617447533, 0.11160171124287424, -0.053832667355618855, 0.4437309020242835, 0.037452676426066964, 0.13850667620107415, 0.02921997459469861, 0.3355942760554976], [0.13209524551229718, 0.4009329591886356, 0.10875985393452725, 0.10644866869343825, 0.18766090287646062, 0.3343934688988914, 1.0, 0.3951929869278809, 0.4025798710945699, 0.10523311534052118, 0.31385310018075974, 0.1313887570101803, 0.19605114390051318, 0.11315582722215373, 0.5221503692489126, 0.38462710792767035, 0.16942531338722333, 0.053879598415421275, 0.3955870039075791, 0.0506747623027364, 0.19180080454738108, 0.19894917178514945, 0.15695256769187216], [0.1886711481998173, 0.5468008769227467, 0.1301298455424985, 0.19434084179353825, 0.29394482477814143, 0.40093706872355916, 0.3951929869278809, 1.0, 0.4193355970909689, 0.05128468335157315, 0.6301540383935574, 0.1641763455160399, 0.33051190818552756, 0.15480464304672237, 0.5259885638493881, 0.5593444854912052, 0.24514143050533116, -0.012308133073925651, 0.43815604659862956, 0.053000850553290055, 0.2619653791244605, 0.054872492734036764, 0.5153516573068508], [0.2612359453327282, 0.7707089089669987, 0.30190982435192026, 0.07986262932617592, 0.40028578585040586, 0.4420917794575705, 0.4025798710945699, 0.4193355970909689, 1.0, 0.035995281046996126, 0.515354631105395, 0.18161135006545784, 0.18983821055853758, 0.1214121224804005, 0.5139952555607669, 0.7357291853522007, 0.17125177833808317, -0.07025428540011207, 0.9909055609219757, 0.0532824145251672, 0.1745427689184993, 0.009072407481305873, 0.27347577734835465], [-0.045350191223749815, 0.03794829006196155, 0.11020677026212092, 0.04999175102219405, -0.029291025076331616, 0.022617265118242472, 0.10523311534052118, 0.05128468335157315, 0.035995281046996126, 1.0, 0.04154036839132233, -0.00420166191453347, 0.04354009246528889, -0.0037031424090175607, 0.12197411420586982, 0.0417613101834748, 0.01462317338338444, -0.043664446145005274, 0.03458661396703009, 0.055452925979204544, 0.04329544040370001, 0.021386627157810718, -0.004186793817498717], [0.2517504971747821, 0.5645301914520278, 0.18439999667113524, 0.4107524911136238, 0.35073531889875353, 0.45475174282997366, 0.31385310018075974, 0.6301540383935574, 0.515354631105395, 0.04154036839132233, 1.0, 0.1456653563376614, 0.25668764975267955, 0.17562983004561478, 0.42125877558166624, 0.5817808667858819, 0.24063927713089364, -0.03916443890054769, 0.5504513828276687, 0.09486646643195148, 0.24133738818285827, 0.009668880462056875, 0.6767608032481282], [0.1804078718179374, 0.27256764314402837, 0.16879079653915985, -0.05366120373839048, 0.1460076996745203, 0.18035142094882955, 0.1313887570101803, 0.1641763455160399, 0.18161135006545784, -0.00420166191453347, 0.1456653563376614, 1.0, 0.1267450163054883, 0.09427953947899465, 0.12048868810840128, 0.2768169460977573, 0.12289443910867408, -0.04345884206999679, 0.19273122662119632, 0.01117372901419999, 0.11398750528615481, 0.017487499755874488, 0.1376659518588644], [0.03225131090814515, 0.25983153003530046, 0.10392589620256365, 0.1270255395447879, 0.08888589466580246, 0.1602280822205119, 0.19605114390051318, 0.33051190818552756, 0.18983821055853758, 0.04354009246528889, 0.25668764975267955, 0.1267450163054883, 1.0, 0.2625173084786551, 0.27846288473045683, 0.2717055280053076, 0.487169076293779, 0.11443515315538132, 0.20738162906126725, 0.030365599483419065, 0.5395296845703075, 0.014593539864880663, 0.2721316535550602], [0.042806466395511784, 0.18549948113917866, 0.0712307803901699, 0.12071378698956856, 0.022490812038554728, 0.07085785409890401, 0.11315582722215373, 0.15480464304672237, 0.1214121224804005, -0.0037031424090175607, 0.17562983004561478, 0.09427953947899465, 0.2625173084786551, 1.0, 0.13505065968457539, 0.18426823219403804, 0.9479145302211172, 0.05754438607622893, 0.12777728301248326, 0.011504278718092838, 0.39732090650446655, -0.00045402291955699695, 0.1295495435589928], [0.1535694630445047, 0.6122881555448019, 0.22225092907480498, 0.03689354166735962, 0.24646935470748552, 0.3781095755538149, 0.5221503692489126, 0.5259885638493881, 0.5139952555607669, 0.12197411420586982, 0.42125877558166624, 0.12048868810840128, 0.27846288473045683, 0.13505065968457539, 1.0, 0.6191843333133764, 0.21556943478789703, -0.016220871754694475, 0.5342743073045819, 0.07434269489174006, 0.22600021001159884, 0.1033362805327725, 0.3026043818173012], [0.4353094562699254, 0.9888667425691107, 0.2946684301769625, 0.08956798995597502, 0.44907337146544435, 0.46530239617447533, 0.38462710792767035, 0.5593444854912052, 0.7357291853522007, 0.0417613101834748, 0.5817808667858819, 0.2768169460977573, 0.2717055280053076, 0.18426823219403804, 0.6191843333133764, 1.0, 0.25006398485552456, -0.01745184718794776, 0.7725943387557334, 0.051214965084359396, 0.23854974063259124, 0.024275795100171846, 0.5355797695247282], [0.045150405484136014, 0.24685781367937384, 0.09818683786342054, 0.1516479893871698, 0.043225613275851754, 0.11160171124287424, 0.16942531338722333, 0.24514143050533116, 0.17125177833808317, 0.01462317338338444, 0.24063927713089364, 0.12289443910867408, 0.487169076293779, 0.9479145302211172, 0.21556943478789703, 0.25006398485552456, 1.0, 0.08083366520969562, 0.1818919276013115, 0.020614312804072353, 0.6422871278987019, 0.005629900947525168, 0.19483734570649558], [-0.05764866941741512, -0.016806684429857062, 0.001888494419112569, 0.02391803034020814, -0.08022869119239058, -0.053832667355618855, 0.053879598415421275, -0.012308133073925651, -0.07025428540011207, -0.043664446145005274, -0.03916443890054769, -0.04345884206999679, 0.11443515315538132, 0.05754438607622893, -0.016220871754694475, -0.01745184718794776, 0.08083366520969562, 1.0, -0.07027483718624557, -0.022419915253518947, 0.0711500803365073, 0.007662243175247269, 0.010269579957999951], [0.27975723656766444, 0.7907547860393709, 0.3065824206447476, 0.0844850677769962, 0.4057946328370677, 0.4437309020242835, 0.3955870039075791, 0.43815604659862956, 0.9909055609219757, 0.03458661396703009, 0.5504513828276687, 0.19273122662119632, 0.20738162906126725, 0.12777728301248326, 0.5342743073045819, 0.7725943387557334, 0.1818919276013115, -0.07027483718624557, 1.0, 0.054681088376972456, 0.1851339619285335, 0.016415876899640337, 0.33830240788605587], [0.008010659580923351, 0.04817476362339746, 0.062426234527143264, 0.06464735463264511, 0.018650441825797406, 0.037452676426066964, 0.0506747623027364, 0.053000850553290055, 0.0532824145251672, 0.055452925979204544, 0.09486646643195148, 0.01117372901419999, 0.030365599483419065, 0.011504278718092838, 0.07434269489174006, 0.051214965084359396, 0.020614312804072353, -0.022419915253518947, 0.054681088376972456, 1.0, 0.026507853231787087, 0.024123622255552753, 0.035448361711064205], [0.04159211509855974, 0.23135193402040877, 0.10152106823670416, 0.13218979614971973, 0.06896172703357235, 0.13850667620107415, 0.19180080454738108, 0.2619653791244605, 0.1745427689184993, 0.04329544040370001, 0.24133738818285827, 0.11398750528615481, 0.5395296845703075, 0.39732090650446655, 0.22600021001159884, 0.23854974063259124, 0.6422871278987019, 0.0711500803365073, 0.1851339619285335, 0.026507853231787087, 1.0, 0.01131484439622841, 0.19927883812503883], [0.039420062738536654, 0.021304906314325144, -0.09197588948998986, 0.15294119127474365, -0.016529312124593985, 0.02921997459469861, 0.19894917178514945, 0.054872492734036764, 0.009072407481305873, 0.021386627157810718, 0.009668880462056875, 0.017487499755874488, 0.014593539864880663, -0.00045402291955699695, 0.1033362805327725, 0.024275795100171846, 0.005629900947525168, 0.007662243175247269, 0.016415876899640337, 0.024123622255552753, 0.01131484439622841, 1.0, 0.05595078170919033], [0.27643654605932094, 0.47602791843342496, 0.15149021436930435, 0.24532422884657568, 0.25968395716991677, 0.3355942760554976, 0.15695256769187216, 0.5153516573068508, 0.27347577734835465, -0.004186793817498717, 0.6767608032481282, 0.1376659518588644, 0.2721316535550602, 0.1295495435589928, 0.3026043818173012, 0.5355797695247282, 0.19483734570649558, 0.010269579957999951, 0.33830240788605587, 0.035448361711064205, 0.19927883812503883, 0.05595078170919033, 1.0]], \"zmax\": 1.0, \"zmin\": -0.20995666366353438}],\n",
       "                        {\"legend\": {\"bgcolor\": \"#F5F6F9\", \"font\": {\"color\": \"#4D5663\"}}, \"paper_bgcolor\": \"#F5F6F9\", \"plot_bgcolor\": \"#F5F6F9\", \"template\": {\"data\": {\"bar\": [{\"error_x\": {\"color\": \"#2a3f5f\"}, \"error_y\": {\"color\": \"#2a3f5f\"}, \"marker\": {\"line\": {\"color\": \"#E5ECF6\", \"width\": 0.5}}, \"type\": \"bar\"}], \"barpolar\": [{\"marker\": {\"line\": {\"color\": \"#E5ECF6\", \"width\": 0.5}}, \"type\": \"barpolar\"}], \"carpet\": [{\"aaxis\": {\"endlinecolor\": \"#2a3f5f\", \"gridcolor\": \"white\", \"linecolor\": \"white\", \"minorgridcolor\": \"white\", \"startlinecolor\": \"#2a3f5f\"}, \"baxis\": {\"endlinecolor\": \"#2a3f5f\", \"gridcolor\": \"white\", \"linecolor\": \"white\", \"minorgridcolor\": \"white\", \"startlinecolor\": \"#2a3f5f\"}, \"type\": \"carpet\"}], \"choropleth\": [{\"colorbar\": {\"outlinewidth\": 0, \"ticks\": \"\"}, \"type\": \"choropleth\"}], \"contour\": [{\"colorbar\": {\"outlinewidth\": 0, \"ticks\": \"\"}, \"colorscale\": [[0.0, \"#0d0887\"], [0.1111111111111111, \"#46039f\"], [0.2222222222222222, \"#7201a8\"], [0.3333333333333333, \"#9c179e\"], [0.4444444444444444, \"#bd3786\"], [0.5555555555555556, \"#d8576b\"], [0.6666666666666666, \"#ed7953\"], [0.7777777777777778, \"#fb9f3a\"], [0.8888888888888888, \"#fdca26\"], [1.0, \"#f0f921\"]], \"type\": \"contour\"}], \"contourcarpet\": [{\"colorbar\": {\"outlinewidth\": 0, \"ticks\": \"\"}, \"type\": \"contourcarpet\"}], \"heatmap\": [{\"colorbar\": {\"outlinewidth\": 0, \"ticks\": \"\"}, \"colorscale\": [[0.0, \"#0d0887\"], [0.1111111111111111, \"#46039f\"], [0.2222222222222222, \"#7201a8\"], [0.3333333333333333, \"#9c179e\"], [0.4444444444444444, \"#bd3786\"], [0.5555555555555556, \"#d8576b\"], [0.6666666666666666, \"#ed7953\"], [0.7777777777777778, \"#fb9f3a\"], [0.8888888888888888, \"#fdca26\"], [1.0, \"#f0f921\"]], \"type\": \"heatmap\"}], \"heatmapgl\": [{\"colorbar\": {\"outlinewidth\": 0, \"ticks\": \"\"}, \"colorscale\": [[0.0, \"#0d0887\"], [0.1111111111111111, \"#46039f\"], [0.2222222222222222, \"#7201a8\"], [0.3333333333333333, \"#9c179e\"], [0.4444444444444444, \"#bd3786\"], [0.5555555555555556, \"#d8576b\"], [0.6666666666666666, \"#ed7953\"], [0.7777777777777778, \"#fb9f3a\"], [0.8888888888888888, \"#fdca26\"], [1.0, \"#f0f921\"]], \"type\": \"heatmapgl\"}], \"histogram\": [{\"marker\": {\"colorbar\": {\"outlinewidth\": 0, \"ticks\": \"\"}}, \"type\": \"histogram\"}], \"histogram2d\": [{\"colorbar\": {\"outlinewidth\": 0, \"ticks\": \"\"}, \"colorscale\": [[0.0, \"#0d0887\"], [0.1111111111111111, \"#46039f\"], [0.2222222222222222, \"#7201a8\"], [0.3333333333333333, \"#9c179e\"], [0.4444444444444444, \"#bd3786\"], [0.5555555555555556, \"#d8576b\"], [0.6666666666666666, \"#ed7953\"], [0.7777777777777778, \"#fb9f3a\"], [0.8888888888888888, \"#fdca26\"], [1.0, \"#f0f921\"]], \"type\": \"histogram2d\"}], \"histogram2dcontour\": [{\"colorbar\": {\"outlinewidth\": 0, \"ticks\": \"\"}, \"colorscale\": [[0.0, \"#0d0887\"], [0.1111111111111111, \"#46039f\"], [0.2222222222222222, \"#7201a8\"], [0.3333333333333333, \"#9c179e\"], [0.4444444444444444, \"#bd3786\"], [0.5555555555555556, \"#d8576b\"], [0.6666666666666666, \"#ed7953\"], [0.7777777777777778, \"#fb9f3a\"], [0.8888888888888888, \"#fdca26\"], [1.0, \"#f0f921\"]], \"type\": \"histogram2dcontour\"}], \"mesh3d\": [{\"colorbar\": {\"outlinewidth\": 0, \"ticks\": \"\"}, \"type\": \"mesh3d\"}], \"parcoords\": [{\"line\": {\"colorbar\": {\"outlinewidth\": 0, \"ticks\": \"\"}}, \"type\": \"parcoords\"}], \"pie\": [{\"automargin\": true, \"type\": \"pie\"}], \"scatter\": [{\"marker\": {\"colorbar\": {\"outlinewidth\": 0, \"ticks\": \"\"}}, \"type\": \"scatter\"}], \"scatter3d\": [{\"line\": {\"colorbar\": {\"outlinewidth\": 0, \"ticks\": \"\"}}, \"marker\": {\"colorbar\": {\"outlinewidth\": 0, \"ticks\": \"\"}}, \"type\": \"scatter3d\"}], \"scattercarpet\": [{\"marker\": {\"colorbar\": {\"outlinewidth\": 0, \"ticks\": \"\"}}, \"type\": \"scattercarpet\"}], \"scattergeo\": [{\"marker\": {\"colorbar\": {\"outlinewidth\": 0, \"ticks\": \"\"}}, \"type\": \"scattergeo\"}], \"scattergl\": [{\"marker\": {\"colorbar\": {\"outlinewidth\": 0, \"ticks\": \"\"}}, \"type\": \"scattergl\"}], \"scattermapbox\": [{\"marker\": {\"colorbar\": {\"outlinewidth\": 0, \"ticks\": \"\"}}, \"type\": \"scattermapbox\"}], \"scatterpolar\": [{\"marker\": {\"colorbar\": {\"outlinewidth\": 0, \"ticks\": \"\"}}, \"type\": \"scatterpolar\"}], \"scatterpolargl\": [{\"marker\": {\"colorbar\": {\"outlinewidth\": 0, \"ticks\": \"\"}}, \"type\": \"scatterpolargl\"}], \"scatterternary\": [{\"marker\": {\"colorbar\": {\"outlinewidth\": 0, \"ticks\": \"\"}}, \"type\": \"scatterternary\"}], \"surface\": [{\"colorbar\": {\"outlinewidth\": 0, \"ticks\": \"\"}, \"colorscale\": [[0.0, \"#0d0887\"], [0.1111111111111111, \"#46039f\"], [0.2222222222222222, \"#7201a8\"], [0.3333333333333333, \"#9c179e\"], [0.4444444444444444, \"#bd3786\"], [0.5555555555555556, \"#d8576b\"], [0.6666666666666666, \"#ed7953\"], [0.7777777777777778, \"#fb9f3a\"], [0.8888888888888888, \"#fdca26\"], [1.0, \"#f0f921\"]], \"type\": \"surface\"}], \"table\": [{\"cells\": {\"fill\": {\"color\": \"#EBF0F8\"}, \"line\": {\"color\": \"white\"}}, \"header\": {\"fill\": {\"color\": \"#C8D4E3\"}, \"line\": {\"color\": \"white\"}}, \"type\": \"table\"}]}, \"layout\": {\"annotationdefaults\": {\"arrowcolor\": \"#2a3f5f\", \"arrowhead\": 0, \"arrowwidth\": 1}, \"coloraxis\": {\"colorbar\": {\"outlinewidth\": 0, \"ticks\": \"\"}}, \"colorscale\": {\"diverging\": [[0, \"#8e0152\"], [0.1, \"#c51b7d\"], [0.2, \"#de77ae\"], [0.3, \"#f1b6da\"], [0.4, \"#fde0ef\"], [0.5, \"#f7f7f7\"], [0.6, \"#e6f5d0\"], [0.7, \"#b8e186\"], [0.8, \"#7fbc41\"], [0.9, \"#4d9221\"], [1, \"#276419\"]], \"sequential\": [[0.0, \"#0d0887\"], [0.1111111111111111, \"#46039f\"], [0.2222222222222222, \"#7201a8\"], [0.3333333333333333, \"#9c179e\"], [0.4444444444444444, \"#bd3786\"], [0.5555555555555556, \"#d8576b\"], [0.6666666666666666, \"#ed7953\"], [0.7777777777777778, \"#fb9f3a\"], [0.8888888888888888, \"#fdca26\"], [1.0, \"#f0f921\"]], \"sequentialminus\": [[0.0, \"#0d0887\"], [0.1111111111111111, \"#46039f\"], [0.2222222222222222, \"#7201a8\"], [0.3333333333333333, \"#9c179e\"], [0.4444444444444444, \"#bd3786\"], [0.5555555555555556, \"#d8576b\"], [0.6666666666666666, \"#ed7953\"], [0.7777777777777778, \"#fb9f3a\"], [0.8888888888888888, \"#fdca26\"], [1.0, \"#f0f921\"]]}, \"colorway\": [\"#636efa\", \"#EF553B\", \"#00cc96\", \"#ab63fa\", \"#FFA15A\", \"#19d3f3\", \"#FF6692\", \"#B6E880\", \"#FF97FF\", \"#FECB52\"], \"font\": {\"color\": \"#2a3f5f\"}, \"geo\": {\"bgcolor\": \"white\", \"lakecolor\": \"white\", \"landcolor\": \"#E5ECF6\", \"showlakes\": true, \"showland\": true, \"subunitcolor\": \"white\"}, \"hoverlabel\": {\"align\": \"left\"}, \"hovermode\": \"closest\", \"mapbox\": {\"style\": \"light\"}, \"paper_bgcolor\": \"white\", \"plot_bgcolor\": \"#E5ECF6\", \"polar\": {\"angularaxis\": {\"gridcolor\": \"white\", \"linecolor\": \"white\", \"ticks\": \"\"}, \"bgcolor\": \"#E5ECF6\", \"radialaxis\": {\"gridcolor\": \"white\", \"linecolor\": \"white\", \"ticks\": \"\"}}, \"scene\": {\"xaxis\": {\"backgroundcolor\": \"#E5ECF6\", \"gridcolor\": \"white\", \"gridwidth\": 2, \"linecolor\": \"white\", \"showbackground\": true, \"ticks\": \"\", \"zerolinecolor\": \"white\"}, \"yaxis\": {\"backgroundcolor\": \"#E5ECF6\", \"gridcolor\": \"white\", \"gridwidth\": 2, \"linecolor\": \"white\", \"showbackground\": true, \"ticks\": \"\", \"zerolinecolor\": \"white\"}, \"zaxis\": {\"backgroundcolor\": \"#E5ECF6\", \"gridcolor\": \"white\", \"gridwidth\": 2, \"linecolor\": \"white\", \"showbackground\": true, \"ticks\": \"\", \"zerolinecolor\": \"white\"}}, \"shapedefaults\": {\"line\": {\"color\": \"#2a3f5f\"}}, \"ternary\": {\"aaxis\": {\"gridcolor\": \"white\", \"linecolor\": \"white\", \"ticks\": \"\"}, \"baxis\": {\"gridcolor\": \"white\", \"linecolor\": \"white\", \"ticks\": \"\"}, \"bgcolor\": \"#E5ECF6\", \"caxis\": {\"gridcolor\": \"white\", \"linecolor\": \"white\", \"ticks\": \"\"}}, \"title\": {\"x\": 0.05}, \"xaxis\": {\"automargin\": true, \"gridcolor\": \"white\", \"linecolor\": \"white\", \"ticks\": \"\", \"title\": {\"standoff\": 15}, \"zerolinecolor\": \"white\", \"zerolinewidth\": 2}, \"yaxis\": {\"automargin\": true, \"gridcolor\": \"white\", \"linecolor\": \"white\", \"ticks\": \"\", \"title\": {\"standoff\": 15}, \"zerolinecolor\": \"white\", \"zerolinewidth\": 2}}}, \"title\": {\"font\": {\"color\": \"#4D5663\"}}, \"xaxis\": {\"gridcolor\": \"#E1E5ED\", \"showgrid\": true, \"tickfont\": {\"color\": \"#4D5663\"}, \"title\": {\"font\": {\"color\": \"#4D5663\"}, \"text\": \"\"}, \"zerolinecolor\": \"#E1E5ED\"}, \"yaxis\": {\"gridcolor\": \"#E1E5ED\", \"showgrid\": true, \"tickfont\": {\"color\": \"#4D5663\"}, \"title\": {\"font\": {\"color\": \"#4D5663\"}, \"text\": \"\"}, \"zerolinecolor\": \"#E1E5ED\"}},\n",
       "                        {\"showLink\": true, \"linkText\": \"Export to plot.ly\", \"plotlyServerURL\": \"https://plot.ly\", \"responsive\": true}\n",
       "                    ).then(function(){\n",
       "                            \n",
       "var gd = document.getElementById('de7742a5-6dbb-411f-9dd3-1d3cbd96ced1');\n",
       "var x = new MutationObserver(function (mutations, observer) {{\n",
       "        var display = window.getComputedStyle(gd).display;\n",
       "        if (!display || display === 'none') {{\n",
       "            console.log([gd, 'removed!']);\n",
       "            Plotly.purge(gd);\n",
       "            observer.disconnect();\n",
       "        }}\n",
       "}});\n",
       "\n",
       "// Listen for the removal of the full notebook cells\n",
       "var notebookContainer = gd.closest('#notebook-container');\n",
       "if (notebookContainer) {{\n",
       "    x.observe(notebookContainer, {childList: true});\n",
       "}}\n",
       "\n",
       "// Listen for the clearing of the current output cell\n",
       "var outputEl = gd.closest('.output');\n",
       "if (outputEl) {{\n",
       "    x.observe(outputEl, {childList: true});\n",
       "}}\n",
       "\n",
       "                        })\n",
       "                };\n",
       "                });\n",
       "            </script>\n",
       "        </div>"
      ]
     },
     "metadata": {},
     "output_type": "display_data"
    }
   ],
   "source": [
    "%matplotlib inline\n",
    "from plotly import __version__\n",
    "from plotly.offline import download_plotlyjs, init_notebook_mode, plot, iplot\n",
    "#print(__version__)\n",
    "import cufflinks as cf\n",
    "init_notebook_mode(connected=True)\n",
    "cf.go_offline()\n",
    "df1=result_df.corr()\n",
    "df1.iplot(kind='heatmap',colorscale='YlOrRd')"
   ]
  },
  {
   "cell_type": "markdown",
   "metadata": {},
   "source": [
    "# Observation:\n",
    "1)visualization of the correlation matrix\n",
    "2)observed that num_voted_users,rating count has 0.988 correlation and num_user_for_reviews, nrofuserreviews has 0.99 correlation. The total Facebook likes variable is highly correlating with actor1 Facebook likes."
   ]
  },
  {
   "cell_type": "code",
   "execution_count": 11,
   "metadata": {},
   "outputs": [
    {
     "data": {
      "text/plain": [
       "color             type         actor_1_name     actor_2_name   \n",
       " Black and White  video.movie  Jack Warden      Lee J. Cobb        8.9\n",
       "                               Liam Neeson      Embeth Davidtz     8.9\n",
       "                               Takashi Shimura  Minoru Chiaki      8.8\n",
       "Color             video.movie  Morgan Freeman   Jeffrey DeMunn     9.3\n",
       "                               Al Pacino        Marlon Brando      9.2\n",
       "                  video.tv     Krystyna Janda   Olaf Lubaszenko    9.2\n",
       "Name: imdbRating, dtype: float64"
      ]
     },
     "execution_count": 11,
     "metadata": {},
     "output_type": "execute_result"
    }
   ],
   "source": [
    "g=result_df.groupby(['color','type','actor_1_name','actor_2_name'])['imdbRating'].mean()\n",
    "g.groupby(level='color').nlargest(3).reset_index(level=0, drop=True)"
   ]
  },
  {
   "cell_type": "markdown",
   "metadata": {},
   "source": [
    "# Observation:\n",
    "1)color black and white and the movie type is video.movie of actor Jack and Lee, Liam and Embeth has the highest IMDB rating i.e 8.9\n",
    "2)color is color and movie type is video.movie of actors Morgan and Jeffrey has the highest IMDb rating i.e 9.3\n"
   ]
  },
  {
   "cell_type": "code",
   "execution_count": 12,
   "metadata": {},
   "outputs": [
    {
     "name": "stdout",
     "output_type": "stream",
     "text": [
      "                              nrOfWins  nrOfNominations   %wins\n",
      "color            type                                          \n",
      " Black and White video.movie      1712             1888  90.678\n",
      "                 video.tv           14               35  40.000\n",
      "Color            video.movie     19019            26915  70.663\n",
      "                 video.tv          485             1345  36.059\n"
     ]
    }
   ],
   "source": [
    "#finding percentage of wins for each color and type\n",
    "g1=result_df.groupby(['color','type']).agg({'nrOfWins':'sum','nrOfNominations':'sum'})\n",
    "g1['%wins']=((g1['nrOfWins'] / g1['nrOfNominations']) *100).round(3)\n",
    "print(g1)"
   ]
  },
  {
   "cell_type": "markdown",
   "metadata": {},
   "source": [
    "# Observation:\n",
    "1)Video movie has the highest number of wins than video.tv type."
   ]
  },
  {
   "cell_type": "code",
   "execution_count": 12,
   "metadata": {},
   "outputs": [
    {
     "data": {
      "text/plain": [
       "color             type         director_name          \n",
       " Black and White  video.movie  Sidney Lumet               8.9\n",
       "                               Steven Spielberg           8.9\n",
       "                               Akira Kurosawa             8.8\n",
       "Color             video.movie  Frank Capra                8.7\n",
       "                               Milos Forman               8.6\n",
       "                               Rakeysh Omprakash Mehra    8.6\n",
       "Name: imdbRating, dtype: float64"
      ]
     },
     "execution_count": 12,
     "metadata": {},
     "output_type": "execute_result"
    }
   ],
   "source": [
    "#finding famous director based on imdb rating\n",
    "g2=result_df.groupby(['color','type','director_name'])['imdbRating'].mean()\n",
    "g2.groupby(level='color').nlargest(3).reset_index(level=0, drop=True)"
   ]
  },
  {
   "cell_type": "code",
   "execution_count": 16,
   "metadata": {},
   "outputs": [
    {
     "data": {
      "text/plain": [
       "color             type         director_name      \n",
       " Black and White  video.movie  Michel Hazanavicius    137\n",
       "                               Martin Scorsese         81\n",
       "                               Baz Luhrmann            75\n",
       "Color             video.movie  Peter Jackson          398\n",
       "                               Steven Spielberg       367\n",
       "                               Ang Lee                295\n",
       "Name: nrOfWins, dtype: int64"
      ]
     },
     "execution_count": 16,
     "metadata": {},
     "output_type": "execute_result"
    }
   ],
   "source": [
    "#finding famous director based on wins\n",
    "g3=result_df.groupby(['color','type','director_name'])['nrOfWins'].sum()\n",
    "g3.groupby(level='color').nlargest(3).reset_index(level=0, drop=True)\n"
   ]
  },
  {
   "cell_type": "code",
   "execution_count": 17,
   "metadata": {},
   "outputs": [
    {
     "data": {
      "text/plain": [
       "<matplotlib.axes._subplots.AxesSubplot at 0x17a7d3fdf28>"
      ]
     },
     "execution_count": 17,
     "metadata": {},
     "output_type": "execute_result"
    },
    {
     "data": {
      "image/png": "[encoded data removed]",
      "text/plain": [
       "<Figure size 576x576 with 1 Axes>"
      ]
     },
     "metadata": {
      "needs_background": "light"
     },
     "output_type": "display_data"
    }
   ],
   "source": [
    "result_df.columns\n",
    "plt.figure(figsize=(8,8))\n",
    "sns.boxplot(x='color', y='nrOfWins', \n",
    "                 data=result_df, \n",
    "                 palette=\"colorblind\",\n",
    "                 hue='type')\n"
   ]
  },
  {
   "cell_type": "markdown",
   "metadata": {},
   "source": [
    "# Observation:\n",
    "1)when it comes to Video.movie type, the black and white has more  wins than color\n",
    "2)when it comes to video tv type, the color has the highest wins than black and white."
   ]
  },
  {
   "cell_type": "code",
   "execution_count": 13,
   "metadata": {},
   "outputs": [
    {
     "name": "stderr",
     "output_type": "stream",
     "text": [
      "C:\\ProgramData\\Anaconda3\\lib\\site-packages\\scipy\\stats\\stats.py:1713: FutureWarning:\n",
      "\n",
      "Using a non-tuple sequence for multidimensional indexing is deprecated; use `arr[tuple(seq)]` instead of `arr[seq]`. In the future this will be interpreted as an array index, `arr[np.array(seq)]`, which will result either in an error or a different result.\n",
      "\n"
     ]
    },
    {
     "data": {
      "text/plain": [
       "<matplotlib.axes._subplots.AxesSubplot at 0x13ab3920668>"
      ]
     },
     "execution_count": 13,
     "metadata": {},
     "output_type": "execute_result"
    },
    {
     "data": {
      "image/png": "[encoded data removed]",
      "text/plain": [
       "<Figure size 576x576 with 1 Axes>"
      ]
     },
     "metadata": {
      "needs_background": "light"
     },
     "output_type": "display_data"
    }
   ],
   "source": [
    "plt.figure(figsize=(8,8))\n",
    "sns.violinplot(x='color', y='nrOfWins', \n",
    "                 data=result_df, \n",
    "                 palette=\"colorblind\",\n",
    "                 hue='type')"
   ]
  },
  {
   "cell_type": "code",
   "execution_count": 19,
   "metadata": {},
   "outputs": [
    {
     "data": {
      "image/png": "[encoded data removed]",
      "text/plain": [
       "<Figure size 576x576 with 1 Axes>"
      ]
     },
     "metadata": {
      "needs_background": "light"
     },
     "output_type": "display_data"
    }
   ],
   "source": [
    "plt.figure(figsize=(8,8))\n",
    "sns.boxplot(x='color', y='imdbRating', \n",
    "                 data=result_df, \n",
    "                 palette=\"colorblind\",\n",
    "                 hue='type');"
   ]
  },
  {
   "cell_type": "markdown",
   "metadata": {},
   "source": [
    "# Observation:\n",
    "1)When it comes to video movies, black and white movies having the highest rating.\n",
    "2)when it comes to video tv category, the color tv movies having the highest rating."
   ]
  },
  {
   "cell_type": "code",
   "execution_count": 20,
   "metadata": {},
   "outputs": [
    {
     "name": "stderr",
     "output_type": "stream",
     "text": [
      "C:\\ProgramData\\Anaconda3\\lib\\site-packages\\scipy\\stats\\stats.py:1713: FutureWarning:\n",
      "\n",
      "Using a non-tuple sequence for multidimensional indexing is deprecated; use `arr[tuple(seq)]` instead of `arr[seq]`. In the future this will be interpreted as an array index, `arr[np.array(seq)]`, which will result either in an error or a different result.\n",
      "\n"
     ]
    },
    {
     "data": {
      "text/plain": [
       "<matplotlib.axes._subplots.AxesSubplot at 0x17a7816aeb8>"
      ]
     },
     "execution_count": 20,
     "metadata": {},
     "output_type": "execute_result"
    },
    {
     "data": {
      "image/png": "[encoded data removed]",
      "text/plain": [
       "<Figure size 576x576 with 1 Axes>"
      ]
     },
     "metadata": {
      "needs_background": "light"
     },
     "output_type": "display_data"
    }
   ],
   "source": [
    "plt.figure(figsize=(8,8))\n",
    "sns.violinplot(x='color', y='imdbRating', \n",
    "                 data=result_df, \n",
    "                 palette=\"colorblind\",\n",
    "                 hue='type')\n",
    "\n",
    "#sns.violinplot(x=\"tip\", y=\"day\", data=tips,palette='rainbow')"
   ]
  },
  {
   "cell_type": "code",
   "execution_count": 14,
   "metadata": {},
   "outputs": [
    {
     "name": "stderr",
     "output_type": "stream",
     "text": [
      "C:\\ProgramData\\Anaconda3\\lib\\site-packages\\scipy\\stats\\stats.py:1713: FutureWarning:\n",
      "\n",
      "Using a non-tuple sequence for multidimensional indexing is deprecated; use `arr[tuple(seq)]` instead of `arr[seq]`. In the future this will be interpreted as an array index, `arr[np.array(seq)]`, which will result either in an error or a different result.\n",
      "\n"
     ]
    },
    {
     "data": {
      "text/plain": [
       "<matplotlib.axes._subplots.AxesSubplot at 0x13ab5bb4e80>"
      ]
     },
     "execution_count": 14,
     "metadata": {},
     "output_type": "execute_result"
    },
    {
     "data": {
      "image/png": "[encoded data removed]",
      "text/plain": [
       "<Figure size 576x576 with 1 Axes>"
      ]
     },
     "metadata": {
      "needs_background": "light"
     },
     "output_type": "display_data"
    }
   ],
   "source": [
    "plt.figure(figsize=(8,8))\n",
    "result_df[\"imdbRating\"].fillna(0, inplace = True) \n",
    "sns.distplot(result_df['imdbRating'])"
   ]
  },
  {
   "cell_type": "code",
   "execution_count": 22,
   "metadata": {},
   "outputs": [
    {
     "name": "stderr",
     "output_type": "stream",
     "text": [
      "C:\\ProgramData\\Anaconda3\\lib\\site-packages\\scipy\\stats\\stats.py:1713: FutureWarning:\n",
      "\n",
      "Using a non-tuple sequence for multidimensional indexing is deprecated; use `arr[tuple(seq)]` instead of `arr[seq]`. In the future this will be interpreted as an array index, `arr[np.array(seq)]`, which will result either in an error or a different result.\n",
      "\n"
     ]
    },
    {
     "data": {
      "text/plain": [
       "<matplotlib.axes._subplots.AxesSubplot at 0x17a7d611940>"
      ]
     },
     "execution_count": 22,
     "metadata": {},
     "output_type": "execute_result"
    },
    {
     "data": {
      "image/png": "[encoded data removed]",
      "text/plain": [
       "<Figure size 576x576 with 1 Axes>"
      ]
     },
     "metadata": {
      "needs_background": "light"
     },
     "output_type": "display_data"
    }
   ],
   "source": [
    "plt.figure(figsize=(8,8))\n",
    "sns.barplot(x='color',y='imdbRating',data=result_df,hue='type',estimator=np.mean)\n"
   ]
  }
 ],
 "metadata": {
  "kernelspec": {
   "display_name": "Python 3",
   "language": "python",
   "name": "python3"
  },
  "language_info": {
   "codemirror_mode": {
    "name": "ipython",
    "version": 3
   },
   "file_extension": ".py",
   "mimetype": "text/x-python",
   "name": "python",
   "nbconvert_exporter": "python",
   "pygments_lexer": "ipython3",
   "version": "3.7.0"
  }
 },
 "nbformat": 4,
 "nbformat_minor": 2
}
